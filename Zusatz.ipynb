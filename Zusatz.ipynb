{
 "cells": [
  {
   "cell_type": "markdown",
   "metadata": {},
   "source": [
    "# Zusätzliche Sachen die möglicherweise in anderen Aufgaben kommen."
   ]
  },
  {
   "cell_type": "markdown",
   "metadata": {},
   "source": [
    "## 8 Dimensionen der Qualität:"
   ]
  },
  {
   "cell_type": "markdown",
   "metadata": {},
   "source": [
    "1. Leistungsfähigkeit (Performance) ist die Eigenschaft des Produktes erwartete Funktionalitäten im Anwendungskontext zur Zufriedenheit des Kunden zu erfüllen.\n",
    "\n",
    "2. Funktionalität (Features): Qualität wird oft mit Funktionalitäten assoziiert,die das Produkt zusätzlich zu seinem eigentlichen Nutzen aufweist.\n",
    "\n",
    "3. Zuverlässigkeit (reliability) ist die Fähigkeit eines Produktes seine erwartete Leistung über einen langen Zeitraum ohne Wartung zu erbringen.\n",
    "\n",
    "4. Konformität (conformance) misst, wie gut das Produkt seinen Spezifikationen entspricht.\n",
    "\n",
    "5. Dauerhaftigkeit (durability) bezeichnet die Eigenschaft eines Produktes möglichst lange dem Kunden den erwarteten Nutzen zu liefern, bevor es unbrauchbar wird (end-of-life).\n",
    "\n",
    "6. Wartbarkeit (servicability) bewertet die Möglichkeit ein defekten Produkt zu warten bzw. zu reparieren.\n",
    "\n",
    "7.  Ästetik (aesthetics) spiegelt die physische Erscheinung (Optik, Haptik, Klang, Geruch, etc. ) eines Produktes und die damit verbundene Zufriedenheit beim Kunden wider.\n",
    "\n",
    "8. Wahrgenommene Qualität (perceived quality) ist die übergeordnete Wahrnehmung des Kunden gegenüber dem Produkt, z.B. über den Markennamen, den Verkäufer, etc."
   ]
  },
  {
   "cell_type": "markdown",
   "metadata": {},
   "source": [
    "## Statistische Grundoperationen:"
   ]
  },
  {
   "cell_type": "code",
   "execution_count": 1,
   "metadata": {},
   "outputs": [],
   "source": [
    "import numpy as np"
   ]
  },
  {
   "cell_type": "code",
   "execution_count": 2,
   "metadata": {},
   "outputs": [],
   "source": [
    "X  = np.random.rand(40,1)"
   ]
  },
  {
   "cell_type": "code",
   "execution_count": 3,
   "metadata": {},
   "outputs": [
    {
     "name": "stdout",
     "output_type": "stream",
     "text": [
      "Der Mittelwert ist 0.516\n"
     ]
    }
   ],
   "source": [
    "# Mittelwert\n",
    "mean = np.mean(X)\n",
    "print(f\"Der Mittelwert ist {round(mean,3)}\")"
   ]
  },
  {
   "cell_type": "code",
   "execution_count": 4,
   "metadata": {},
   "outputs": [
    {
     "name": "stdout",
     "output_type": "stream",
     "text": [
      "Der Median ist 0.498\n"
     ]
    }
   ],
   "source": [
    "# Median\n",
    "median = np.median(X)\n",
    "print(f\"Der Median ist {round(median,3)}\")"
   ]
  },
  {
   "cell_type": "code",
   "execution_count": 5,
   "metadata": {},
   "outputs": [
    {
     "name": "stdout",
     "output_type": "stream",
     "text": [
      "Die Varianz ist 0.084\n"
     ]
    }
   ],
   "source": [
    "# Varianz\n",
    "var = np.var(X,ddof=1)\n",
    "print(f\"Die Varianz ist {round(var,3)}\")"
   ]
  },
  {
   "cell_type": "code",
   "execution_count": 6,
   "metadata": {},
   "outputs": [
    {
     "name": "stdout",
     "output_type": "stream",
     "text": [
      "Die Standartabweichung ist 0.29\n"
     ]
    }
   ],
   "source": [
    "# Standartabweichung\n",
    "std = np.std(X,ddof=1)\n",
    "print(f\"Die Standartabweichung ist {round(std,3)}\")"
   ]
  },
  {
   "cell_type": "code",
   "execution_count": 7,
   "metadata": {},
   "outputs": [
    {
     "name": "stdout",
     "output_type": "stream",
     "text": [
      "Die Spannweite ist 0.925\n"
     ]
    }
   ],
   "source": [
    "# Spannweite\n",
    "range = np.max(X)-np.min(X)\n",
    "print(f\"Die Spannweite ist {round(range,3)}\")"
   ]
  }
 ],
 "metadata": {
  "kernelspec": {
   "display_name": "venvTest",
   "language": "python",
   "name": "python3"
  },
  "language_info": {
   "codemirror_mode": {
    "name": "ipython",
    "version": 3
   },
   "file_extension": ".py",
   "mimetype": "text/x-python",
   "name": "python",
   "nbconvert_exporter": "python",
   "pygments_lexer": "ipython3",
   "version": "3.13.0"
  }
 },
 "nbformat": 4,
 "nbformat_minor": 2
}
